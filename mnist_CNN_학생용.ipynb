{
  "nbformat": 4,
  "nbformat_minor": 0,
  "metadata": {
    "colab": {
      "provenance": []
    },
    "kernelspec": {
      "name": "python3",
      "display_name": "Python 3"
    },
    "language_info": {
      "name": "python"
    }
  },
  "cells": [
    {
      "cell_type": "markdown",
      "source": [
        "### mnist_CNN 소스코드.txt 에서 한 문단 씩 읽어와서 붙여넣기"
      ],
      "metadata": {
        "id": "O54Z7cs7LPrB"
      }
    },
    {
      "cell_type": "code",
      "source": [
        "# [1] 데이터셋 불러오기\n",
        "\n"
      ],
      "metadata": {
        "id": "8P8nM38yWIXI"
      },
      "execution_count": null,
      "outputs": []
    },
    {
      "cell_type": "code",
      "source": [
        "# [2] MNIST 이미지 출력하기 (0~59999)\n",
        "\n"
      ],
      "metadata": {
        "id": "RDluhc5Xc2AZ"
      },
      "execution_count": null,
      "outputs": []
    },
    {
      "cell_type": "code",
      "source": [
        "# [3] 이미지의 값 출력하기\n",
        "\n"
      ],
      "metadata": {
        "id": "DdUi_EIwc18X"
      },
      "execution_count": null,
      "outputs": []
    },
    {
      "cell_type": "code",
      "source": [
        "# [4] mnist 데이터셋에서 X의 형태 바꾸기\n",
        "\n"
      ],
      "metadata": {
        "id": "i0ruv6qQXXsy"
      },
      "execution_count": null,
      "outputs": []
    },
    {
      "cell_type": "code",
      "source": [
        "# [5] mnist 데이터셋에서 Y의 형태 바꾸기\n",
        "\n"
      ],
      "metadata": {
        "id": "Fm8TiMlfYyBz"
      },
      "execution_count": null,
      "outputs": []
    },
    {
      "cell_type": "code",
      "source": [
        "# [6] CNN 신경망 모델 설계\n",
        "\n"
      ],
      "metadata": {
        "id": "Se9m5k0yZNBP"
      },
      "execution_count": null,
      "outputs": []
    },
    {
      "cell_type": "code",
      "source": [
        "# [7] 모델 학습 시키기\n",
        "\n"
      ],
      "metadata": {
        "id": "WzVuM24HZunS"
      },
      "execution_count": null,
      "outputs": []
    },
    {
      "cell_type": "code",
      "source": [
        "# [8] 모델 저장하기\n",
        "# PC에 다운로드하면 다음번에 학습하지 않아도 학습한 모델을 불러와서 바로 사용할 수 있음\n",
        "# \n",
        "\n"
      ],
      "metadata": {
        "id": "-gJC6sq1ho3V"
      },
      "execution_count": null,
      "outputs": []
    },
    {
      "cell_type": "code",
      "source": [
        "# [9] 모델 정확도 살펴보기\n",
        "\n"
      ],
      "metadata": {
        "id": "Hx3sg542aIeV"
      },
      "execution_count": null,
      "outputs": []
    },
    {
      "cell_type": "code",
      "source": [
        "# [10] 정확률 그래프와 손실함수 그래프 그리기\n",
        "\n"
      ],
      "metadata": {
        "id": "SUfua0x8oAW7"
      },
      "execution_count": null,
      "outputs": []
    },
    {
      "cell_type": "markdown",
      "source": [
        "### 이미 학습된 모델을 불러오는 경우에는 아래 셀부터 시작해도 됨"
      ],
      "metadata": {
        "id": "BrL5OAdORoVG"
      }
    },
    {
      "cell_type": "code",
      "source": [
        "# [11] 모델 불러오기\n",
        "\n"
      ],
      "metadata": {
        "id": "pMJdz_DRRrO5"
      },
      "execution_count": null,
      "outputs": []
    },
    {
      "cell_type": "code",
      "source": [
        "# [12] 모델 학습 결과 확인하기\n",
        "\n"
      ],
      "metadata": {
        "id": "i7-vtEbZadd5"
      },
      "execution_count": null,
      "outputs": []
    },
    {
      "cell_type": "code",
      "source": [
        "# [13] 예측 결과 맞춘 수량 / 못맞춘 수량\n",
        "\n"
      ],
      "metadata": {
        "id": "quhNPNv_Rwqs"
      },
      "execution_count": null,
      "outputs": []
    },
    {
      "cell_type": "code",
      "source": [
        "# [14] 잘 예측한 데이터 살펴보기\n",
        "\n"
      ],
      "metadata": {
        "id": "h3ND6Vk9a74e"
      },
      "execution_count": null,
      "outputs": []
    },
    {
      "cell_type": "code",
      "source": [
        "# [15] 잘 예측하지 못한 데이터 살펴보기\n",
        "\n"
      ],
      "metadata": {
        "id": "jN2tWqMrbkHP"
      },
      "execution_count": null,
      "outputs": []
    },
    {
      "cell_type": "markdown",
      "source": [
        "### 이미지 테스팅"
      ],
      "metadata": {
        "id": "77ggF3i4cKZX"
      }
    },
    {
      "cell_type": "code",
      "source": [
        "# 이미지 저장하는 방법\n",
        "# https://saynot.tistory.com/entry/Deep-Learning-MNIST-%EC%86%90%EA%B8%80%EC%94%A8-%EC%88%AB%EC%9E%90-%EC%9D%B4%EB%AF%B8%EC%A7%80-%EC%9D%B8%EC%8B%9D%ED%95%B4%EB%B3%B4%EA%B8%B0"
      ],
      "metadata": {
        "id": "hjF8HPPLi4An"
      },
      "execution_count": null,
      "outputs": []
    },
    {
      "cell_type": "code",
      "source": [
        "# [16] 손글씨*.png는 그림판에서 붓으로 숫자 그린 이미지 파일\n",
        "# 손글씨*.png 파일 열어서 L(256단계 흑백이미지)로 변환\n",
        "\n"
      ],
      "metadata": {
        "id": "Y2mEYRtXgMiL"
      },
      "execution_count": null,
      "outputs": []
    }
  ]
}