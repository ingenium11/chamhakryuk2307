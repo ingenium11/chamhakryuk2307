{
  "nbformat": 4,
  "nbformat_minor": 0,
  "metadata": {
    "colab": {
      "provenance": []
    },
    "kernelspec": {
      "name": "python3",
      "display_name": "Python 3"
    },
    "language_info": {
      "name": "python"
    }
  },
  "cells": [
    {
      "cell_type": "markdown",
      "source": [
        "### minst_3dense 소스코드.txt 파일에서 한 문단 씩 읽어서 붙여 넣기 후 실행하기"
      ],
      "metadata": {
        "id": "AC7nkib7FH_Y"
      }
    },
    {
      "cell_type": "code",
      "source": [
        "# [1] MNIST 데이터셋 불러오기\n",
        "\n"
      ],
      "metadata": {
        "id": "8P8nM38yWIXI"
      },
      "execution_count": null,
      "outputs": []
    },
    {
      "cell_type": "code",
      "source": [
        "# [2] MNIST 이미지 출력하기 (0~59999)\n",
        "\n"
      ],
      "metadata": {
        "id": "rQXMqSTQeQP9"
      },
      "execution_count": null,
      "outputs": []
    },
    {
      "cell_type": "code",
      "source": [
        "# [3] 이미지의 값 출력하기\n",
        "\n"
      ],
      "metadata": {
        "id": "INo5MdlfXv5B"
      },
      "execution_count": null,
      "outputs": []
    },
    {
      "cell_type": "code",
      "source": [
        "# [4] mnist 데이터셋에서 X의 형태 바꾸기\n",
        "\n"
      ],
      "metadata": {
        "id": "i0ruv6qQXXsy"
      },
      "execution_count": null,
      "outputs": []
    },
    {
      "cell_type": "code",
      "source": [
        "# [5] mnist 데이터셋에서 Y의 형태 바꾸기\n",
        "\n"
      ],
      "metadata": {
        "id": "Fm8TiMlfYyBz"
      },
      "execution_count": null,
      "outputs": []
    },
    {
      "cell_type": "code",
      "source": [
        "# [6] 인공지능 모델 설계하기 (3개의 Dense 망)\n",
        "\n"
      ],
      "metadata": {
        "id": "Se9m5k0yZNBP"
      },
      "execution_count": null,
      "outputs": []
    },
    {
      "cell_type": "code",
      "source": [
        "# [7] 모델 학습 시키기\n",
        "\n"
      ],
      "metadata": {
        "id": "WzVuM24HZunS"
      },
      "execution_count": null,
      "outputs": []
    },
    {
      "cell_type": "code",
      "source": [
        "# [8] 모델 저장하기\n",
        "# PC에 다운로드하면 다음번에 학습하지 않아도 학습한 모델을 불러와서 바로 사용할 수 있음\n",
        "# \n"
      ],
      "metadata": {
        "id": "-gJC6sq1ho3V"
      },
      "execution_count": null,
      "outputs": []
    },
    {
      "cell_type": "code",
      "source": [
        "# [9] 모델 정확도 살펴보기\n",
        "\n"
      ],
      "metadata": {
        "id": "Hx3sg542aIeV"
      },
      "execution_count": null,
      "outputs": []
    },
    {
      "cell_type": "code",
      "source": [
        "# [10] 정확률 그래프와 손실함수 그패프 그리기\n",
        "\n"
      ],
      "metadata": {
        "id": "wzHtayXfiaEE"
      },
      "execution_count": null,
      "outputs": []
    },
    {
      "cell_type": "markdown",
      "source": [
        "### 이미 학습된 모델을 불러오는 경우에는 아래 셀부터 시작해도 됨"
      ],
      "metadata": {
        "id": "Jq-FPh1aORiR"
      }
    },
    {
      "cell_type": "code",
      "source": [
        "# [11] 모델 불러오기\n"
      ],
      "metadata": {
        "id": "mqIEFfRaONca"
      },
      "execution_count": null,
      "outputs": []
    },
    {
      "cell_type": "code",
      "source": [
        "# [12] 모델 학습 결과 확인하기\n",
        "\n"
      ],
      "metadata": {
        "id": "i7-vtEbZadd5"
      },
      "execution_count": null,
      "outputs": []
    },
    {
      "cell_type": "code",
      "source": [
        "# [13] 예측 결과 맞춘 수량 / 못맞춘 수량\n",
        "\n"
      ],
      "metadata": {
        "id": "JjA7ncHwO4S3"
      },
      "execution_count": null,
      "outputs": []
    },
    {
      "cell_type": "code",
      "source": [
        "# [14] 잘 예측한 데이터 살펴보기\n",
        "\n"
      ],
      "metadata": {
        "id": "h3ND6Vk9a74e"
      },
      "execution_count": null,
      "outputs": []
    },
    {
      "cell_type": "code",
      "source": [
        "# [15] 잘 예측하지 못한 데이터 살펴보기\n",
        "\n"
      ],
      "metadata": {
        "id": "jN2tWqMrbkHP"
      },
      "execution_count": null,
      "outputs": []
    },
    {
      "cell_type": "markdown",
      "source": [
        "### 이미지 테스팅"
      ],
      "metadata": {
        "id": "77ggF3i4cKZX"
      }
    },
    {
      "cell_type": "code",
      "source": [
        "# 이미지 저장하는 방법\n",
        "# https://saynot.tistory.com/entry/Deep-Learning-MNIST-%EC%86%90%EA%B8%80%EC%94%A8-%EC%88%AB%EC%9E%90-%EC%9D%B4%EB%AF%B8%EC%A7%80-%EC%9D%B8%EC%8B%9D%ED%95%B4%EB%B3%B4%EA%B8%B0"
      ],
      "metadata": {
        "id": "hjF8HPPLi4An"
      },
      "execution_count": null,
      "outputs": []
    },
    {
      "cell_type": "code",
      "source": [
        "# [16] 이미지 처리 위해 필요한 라이브러리 호출\n",
        "\n"
      ],
      "metadata": {
        "id": "Y2mEYRtXgMiL"
      },
      "execution_count": null,
      "outputs": []
    }
  ]
}