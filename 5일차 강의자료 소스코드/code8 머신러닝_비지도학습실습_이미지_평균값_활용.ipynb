{
  "cells": [
    {
      "cell_type": "markdown",
      "metadata": {
        "id": "e7fqmZq-mQOb"
      },
      "source": [
        "# 군집 알고리즘"
      ]
    },
    {
      "cell_type": "markdown",
      "metadata": {
        "id": "2UTJDOw8mQPx"
      },
      "source": [
        "<table align=\"left\">\n",
        "  <td>\n",
        "    <a target=\"_blank\" href=\"https://colab.research.google.com/github/rickiepark/hg-mldl/blob/master/6-1.ipynb\"><img src=\"https://www.tensorflow.org/images/colab_logo_32px.png\" />구글 코랩에서 실행하기</a>\n",
        "  </td>\n",
        "</table>"
      ]
    },
    {
      "cell_type": "markdown",
      "metadata": {
        "id": "gPJ0mIpixFyO"
      },
      "source": [
        "## 과일 사진 데이터 준비하기"
      ]
    },
    {
      "cell_type": "code",
      "execution_count": null,
      "metadata": {
        "id": "-gUa1bhWzGEG"
      },
      "outputs": [],
      "source": [
        "# 캐글에 공개된 과일 데이터 셋 불러오기\n",
        "# 코랩의 코드 셀에서 '!' 로 시작하면 파이썬 코드가 아닌 리눅스 셀 명령으로 이행함\n",
        "\n",
        "!wget https://bit.ly/fruits_300_data -O fruits_300.npy"
      ]
    },
    {
      "cell_type": "markdown",
      "source": [
        "### 필요한 라이브러리 불러오기"
      ],
      "metadata": {
        "id": "obqs2NYOyiZr"
      }
    },
    {
      "cell_type": "code",
      "execution_count": 2,
      "metadata": {
        "id": "EV7nNSwjy9Ws"
      },
      "outputs": [],
      "source": [
        "# 수치해석을 위한 넘파이와 그래프를 그리기 위한 맷플롭립 불러오기\n",
        "import numpy as np\n",
        "import matplotlib.pyplot as plt\n",
        "import random"
      ]
    },
    {
      "cell_type": "markdown",
      "source": [
        "### 다운받은 데이터셋을 넘파이에서 load() 메서드 이용하여 불러오기\n",
        "### 불러온 데이터를 fruits라는 넘파이 배열에 저장함\n",
        "### 사과 이미지 100개, 파인애플 이미지 100개, 바나나 이미지 100개 등 총 300개 이미지가 흑백사진으로 저장되어 있음"
      ],
      "metadata": {
        "id": "2SSHRelHzWmI"
      }
    },
    {
      "cell_type": "code",
      "execution_count": 3,
      "metadata": {
        "id": "E98kvOHnzCac"
      },
      "outputs": [],
      "source": [
        "fruits = np.load('fruits_300.npy')"
      ]
    },
    {
      "cell_type": "markdown",
      "source": [
        "### fruits 라는 배열의 크기 확인하기"
      ],
      "metadata": {
        "id": "JuGSlxCyz6wP"
      }
    },
    {
      "cell_type": "code",
      "execution_count": null,
      "metadata": {
        "id": "t_2KB59g2uVW"
      },
      "outputs": [],
      "source": [
        "# 넘파이에서 shape 함수를 이용하여 배열 크기 확인\n",
        "print(fruits.shape)\n",
        "print(f\"샘플갯수: {fruits.shape[0]}, 이미지 크기 (높이x너비) :{fruits.shape[1]} 픽셀 x {fruits.shape[2]} 픽셀\")"
      ]
    },
    {
      "cell_type": "code",
      "source": [
        "# 사과 이미지 출력\n",
        "fig, axs = plt.subplots(10, 10, figsize=(4,4))\n",
        "for i in range(10) :\n",
        "  for j in range(10) :\n",
        "    axs[i, j].imshow(fruits[i*10+j], cmap='gray_r')\n",
        "    axs[i, j].axis('off')\n",
        "plt.show()"
      ],
      "metadata": {
        "id": "VNA8d4YoNJay"
      },
      "execution_count": null,
      "outputs": []
    },
    {
      "cell_type": "code",
      "source": [
        "# 파인애플 이미지 출력\n",
        "fig, axs = plt.subplots(10, 10, figsize=(4,4))\n",
        "for i in range(10) :\n",
        "  for j in range(10) :\n",
        "    axs[i, j].imshow(fruits[100+i*10+j], cmap='gray_r')\n",
        "    axs[i, j].axis('off')\n",
        "plt.show()"
      ],
      "metadata": {
        "id": "VguMJLi8NJXZ"
      },
      "execution_count": null,
      "outputs": []
    },
    {
      "cell_type": "code",
      "source": [
        "# 바나나 이미지 출력\n",
        "fig, axs = plt.subplots(10, 10, figsize=(4,4))\n",
        "for i in range(10) :\n",
        "  for j in range(10) :\n",
        "    axs[i, j].imshow(fruits[200+i*10+j], cmap='gray_r')\n",
        "    axs[i, j].axis('off')\n",
        "plt.show()"
      ],
      "metadata": {
        "id": "eiYtV2ruNJMZ"
      },
      "execution_count": null,
      "outputs": []
    },
    {
      "cell_type": "code",
      "source": [
        "# 첫번째 사진 이미지 확인하기\n",
        "\n",
        "plt.imshow(fruits[0], cmap='gray_r')\n",
        "plt.show()"
      ],
      "metadata": {
        "id": "nPDskRYR_GjP"
      },
      "execution_count": null,
      "outputs": []
    },
    {
      "cell_type": "code",
      "source": [
        "# 임의의 사진 이미지 확인하기 (0~299)\n",
        "\n",
        "idx = random.randint(0, 300)\n",
        "print(idx, \"번째 사진 이미지\")\n",
        "plt.imshow(fruits[idx], cmap='gray_r')\n",
        "plt.show()"
      ],
      "metadata": {
        "id": "DvqqyFoXAjZ2"
      },
      "execution_count": null,
      "outputs": []
    },
    {
      "cell_type": "code",
      "source": [
        "# 원하는 사진 이미지 확인하기 (0~299)\n",
        "\n",
        "idx = int(input(\"사진 번호를 입력하세요 (0~299) \"))\n",
        "plt.imshow(fruits[idx], cmap='gray_r')\n",
        "plt.show()"
      ],
      "metadata": {
        "id": "mA_j-k1BAD3z"
      },
      "execution_count": null,
      "outputs": []
    },
    {
      "cell_type": "markdown",
      "source": [
        "### 사진 이미지의 픽셀 값 보기"
      ],
      "metadata": {
        "id": "dIHfttSZBTpy"
      }
    },
    {
      "cell_type": "code",
      "execution_count": null,
      "metadata": {
        "id": "G3sDNCGvuffi"
      },
      "outputs": [],
      "source": [
        "print(\"첫번째 이미지의 첫번째 행에 있는 100개의 값\")\n",
        "print(fruits[0, 0, :])\n",
        "plt.imshow(fruits[0], cmap='gray_r')\n",
        "plt.show()"
      ]
    },
    {
      "cell_type": "code",
      "execution_count": null,
      "metadata": {
        "id": "e-3XLg26ZonQ"
      },
      "outputs": [],
      "source": [
        "fig, axs = plt.subplots(1, 2)\n",
        "axs[0].imshow(fruits[100], cmap='gray_r')\n",
        "axs[1].imshow(fruits[200], cmap='gray_r')\n",
        "plt.show()"
      ]
    },
    {
      "cell_type": "markdown",
      "metadata": {
        "id": "4qRSenHBLmW8"
      },
      "source": [
        "## 픽셀 값 분석하기\n",
        "### 배열 계산을 위해 100 x 100 이미지를 펼쳐서 길이가 10,000인 1차원 배열로 변경\n",
        "### 넘파이 함수 중 reshape 함수 이용"
      ]
    },
    {
      "cell_type": "code",
      "execution_count": 14,
      "metadata": {
        "id": "oI9jVGjIw2Zk"
      },
      "outputs": [],
      "source": [
        "apple = fruits[0:100].reshape(-1, 100*100)\n",
        "pineapple = fruits[100:200].reshape(-1, 100*100)\n",
        "banana = fruits[200:300].reshape(-1, 100*100)"
      ]
    },
    {
      "cell_type": "code",
      "execution_count": null,
      "metadata": {
        "id": "Pbc4AxxSEFo4"
      },
      "outputs": [],
      "source": [
        "# 각 변수에 저장된 배열의 크기 확인 : 이미지 갯수, 이미지 크기 출력\n",
        "\n",
        "print(apple.shape)\n",
        "print(pineapple.shape)\n",
        "print(banana.shape)"
      ]
    },
    {
      "cell_type": "code",
      "execution_count": null,
      "metadata": {
        "id": "we31oqAg0JIl"
      },
      "outputs": [],
      "source": [
        "# apple에 저장된 이미지의 평균값을 mean 함수를 이용해 계산\n",
        "print(apple.mean(axis=1))"
      ]
    },
    {
      "cell_type": "code",
      "source": [
        "# pineapple에 저장된 이미지의 평균값을 mean 함수를 이용해 계산\n",
        "print(pineapple.mean(axis=1))"
      ],
      "metadata": {
        "id": "c2dHNiJVFQY4"
      },
      "execution_count": null,
      "outputs": []
    },
    {
      "cell_type": "code",
      "source": [
        "# banana에 저장된 이미지의 평균값을 mean 함수를 이용해 계산\n",
        "print(banana.mean(axis=1))"
      ],
      "metadata": {
        "id": "zQuL0d7XFRd7"
      },
      "execution_count": null,
      "outputs": []
    },
    {
      "cell_type": "markdown",
      "source": [
        "### 각 이미지 사진의 평균값을 막대그래프로 그리기\n",
        "### x축 : 평균값, y축 : 해당 평균값의 발생 빈도"
      ],
      "metadata": {
        "id": "l01HaJlPHCPn"
      }
    },
    {
      "cell_type": "code",
      "source": [
        "# 사과 이미지 평균값\n",
        "#plt.hist(np.mean(apple, axis=1), color='steelblue', alpha=0.8)\n",
        "plt.hist(np.mean(apple, axis=1), color='orangered', alpha=0.8)\n",
        "plt.legend(['apple'])\n",
        "plt.show()"
      ],
      "metadata": {
        "id": "dSenEeB3Fb6o"
      },
      "execution_count": null,
      "outputs": []
    },
    {
      "cell_type": "code",
      "source": [
        "# 파인애플 이미지 평균값\n",
        "plt.hist(np.mean(pineapple, axis=1), color='seagreen', alpha=0.8)\n",
        "plt.legend(['pineapple'])\n",
        "plt.show()"
      ],
      "metadata": {
        "id": "-BBB-dv4FeGR"
      },
      "execution_count": null,
      "outputs": []
    },
    {
      "cell_type": "code",
      "source": [
        "# 바나나 이미지 평균값\n",
        "plt.hist(np.mean(banana, axis=1), color='gold', alpha=0.8)\n",
        "plt.legend(['banana'])\n",
        "plt.show()"
      ],
      "metadata": {
        "id": "IzHBShFZFd7V"
      },
      "execution_count": null,
      "outputs": []
    },
    {
      "cell_type": "markdown",
      "source": [
        "### 세 이미지의 비교를 위해 x축과 y축 값을 고정"
      ],
      "metadata": {
        "id": "Y2Q-1HiUHdmQ"
      }
    },
    {
      "cell_type": "code",
      "source": [
        "# 사과 이미지 평균값\n",
        "plt.hist(np.mean(apple, axis=1), color='orangered', alpha=0.8)\n",
        "plt.xlim([0,120])\n",
        "plt.ylim([0,30])\n",
        "plt.legend(['apple'])\n",
        "plt.show()"
      ],
      "metadata": {
        "id": "H2ADRfv4Hlp5"
      },
      "execution_count": null,
      "outputs": []
    },
    {
      "cell_type": "code",
      "source": [
        "# 파인애플 이미지 평균값\n",
        "plt.hist(np.mean(pineapple, axis=1), color='seagreen', alpha=0.8)\n",
        "plt.xlim([0,120])\n",
        "plt.ylim([0,30])\n",
        "plt.legend(['pineapple'])\n",
        "plt.show()"
      ],
      "metadata": {
        "id": "cPD4kUVEIo4F"
      },
      "execution_count": null,
      "outputs": []
    },
    {
      "cell_type": "code",
      "source": [
        "# 바나나 이미지 평균값\n",
        "plt.hist(np.mean(banana, axis=1), color='gold', alpha=0.8)\n",
        "plt.xlim([0,120])\n",
        "plt.ylim([0,30])\n",
        "plt.legend(['banana'])\n",
        "plt.show()"
      ],
      "metadata": {
        "id": "jcDPoI4RIowk"
      },
      "execution_count": null,
      "outputs": []
    },
    {
      "cell_type": "markdown",
      "source": [
        "### 3개의 이미지를 동시에 한 그래프에 중첩되게 표시"
      ],
      "metadata": {
        "id": "6plUe_kkI0N3"
      }
    },
    {
      "cell_type": "code",
      "execution_count": null,
      "metadata": {
        "id": "6Ty1oMn3wEC8"
      },
      "outputs": [],
      "source": [
        "plt.hist(np.mean(apple, axis=1), color='orangered', alpha=0.8)\n",
        "plt.hist(np.mean(pineapple, axis=1), color='seagreen', alpha=0.8)\n",
        "plt.hist(np.mean(banana, axis=1), color='gold', alpha=0.8)\n",
        "plt.xlim([0,120])\n",
        "plt.ylim([0,30])\n",
        "plt.legend(['apple', 'pineapple', 'banana'])\n",
        "plt.show()"
      ]
    },
    {
      "cell_type": "markdown",
      "source": [
        "### 바나나의 경우 이미지의 평균값으로 구분이 가능하나,\n",
        "### 사과와 파인애플은 이미지의 평균값이 유사하여 구별이 어려움"
      ],
      "metadata": {
        "id": "UmenAxxuL-4s"
      }
    },
    {
      "cell_type": "markdown",
      "source": [
        "### 그래서 100 x 100 크기의 이미지에서 각 픽셀별 평균값을 구해봄\n",
        "### 세 과일은 모양이 다르므로 픽셀값이 높은 위치가 조금씩 다를 것임으로 예상됨 "
      ],
      "metadata": {
        "id": "7-a7NigGOmza"
      }
    },
    {
      "cell_type": "markdown",
      "source": [
        "---\n",
        "\n"
      ],
      "metadata": {
        "id": "SlgWOHaYPS1_"
      }
    },
    {
      "cell_type": "markdown",
      "source": [
        "### 맷플롭립의 bar 함수를 사용하여 10,000개 픽셀에 대한 각각의 평균값을 막대그래프로 그림"
      ],
      "metadata": {
        "id": "bHbaHdfePFhl"
      }
    },
    {
      "cell_type": "code",
      "execution_count": null,
      "metadata": {
        "id": "ZgZgRydTwTbU"
      },
      "outputs": [],
      "source": [
        "print(\"사과                                                                    파인애플                                                           바나나\")\n",
        "fig, axs = plt.subplots(1, 3, figsize=(20, 5))\n",
        "axs[0].bar(range(10000), np.mean(apple, axis=0))\n",
        "axs[1].bar(range(10000), np.mean(pineapple, axis=0))\n",
        "axs[2].bar(range(10000), np.mean(banana, axis=0))\n",
        "plt.show()"
      ]
    },
    {
      "cell_type": "markdown",
      "source": [
        "### 위의 그래프를 보면 과일마다 값이 높은 값이 다름. \n",
        "### 사과는 아래쪽으로 갈수록 값이 높아지고, 파인애플 그래프는 비교적 고르면서 높음\n",
        "### 바나나는 확실히 중앙의 픽셀값이 높음"
      ],
      "metadata": {
        "id": "xAId9jBgP4JS"
      }
    },
    {
      "cell_type": "code",
      "execution_count": null,
      "metadata": {
        "id": "BkHjtTJBZ6Zk"
      },
      "outputs": [],
      "source": [
        "apple_mean = np.mean(apple, axis=0).reshape(100, 100)\n",
        "pineapple_mean = np.mean(pineapple, axis=0).reshape(100, 100)\n",
        "banana_mean = np.mean(banana, axis=0).reshape(100, 100)\n",
        "\n",
        "fig, axs = plt.subplots(1, 3, figsize=(20, 5))\n",
        "axs[0].imshow(apple_mean, cmap='gray_r')\n",
        "axs[1].imshow(pineapple_mean, cmap='gray_r')\n",
        "axs[2].imshow(banana_mean, cmap='gray_r')\n",
        "plt.show()"
      ]
    },
    {
      "cell_type": "markdown",
      "metadata": {
        "id": "eJl8Dz1-mQP3"
      },
      "source": [
        "## 사과의 평균값과 가까운 사진 고르기\n",
        "### fruits 배열에 저장된 모든 샘플에서 사과 사진의 평균값을 뺀 절대값의 평균값을 계산함"
      ]
    },
    {
      "cell_type": "code",
      "source": [
        "apple_mean = np.mean(apple, axis=0).reshape(100, 100)\n",
        "\n",
        "abs_diff = np.abs(fruits - apple_mean)\n",
        "abs_mean = np.mean(abs_diff, axis=(1,2))"
      ],
      "metadata": {
        "id": "ZJ2ACbNfRJUC"
      },
      "execution_count": 28,
      "outputs": []
    },
    {
      "cell_type": "markdown",
      "source": [
        "### 이 값이 가장 작은 순서대로 100개를 골라 봄\n",
        "### apple_mena과 오차가 가장 작은 샘플 100개를 고름"
      ],
      "metadata": {
        "id": "DDbUL0IPSU39"
      }
    },
    {
      "cell_type": "code",
      "execution_count": null,
      "metadata": {
        "id": "s2cSX4JZh1TJ"
      },
      "outputs": [],
      "source": [
        "apple_index = np.argsort(abs_mean)[:100]\n",
        "fig, axs = plt.subplots(10, 10, figsize=(4,4))\n",
        "for i in range(10):\n",
        "    for j in range(10):\n",
        "        axs[i, j].imshow(fruits[apple_index[i*10 + j]], cmap='gray_r')\n",
        "        axs[i, j].axis('off')\n",
        "plt.show()"
      ]
    },
    {
      "cell_type": "markdown",
      "source": [
        "### 같은 방법으로 파인애플의 평균값과 오차가 가장 작은 사진 100개를 출력함"
      ],
      "metadata": {
        "id": "I7v9jyNTS3Wk"
      }
    },
    {
      "cell_type": "code",
      "source": [
        "pineapple_mean = np.mean(pineapple, axis=0).reshape(100, 100)\n",
        "abs_diff = np.abs(fruits - pineapple_mean)\n",
        "abs_mean = np.mean(abs_diff, axis=(1,2))\n",
        "\n",
        "pineapple_index = np.argsort(abs_mean)[:100]\n",
        "fig, axs = plt.subplots(10, 10, figsize=(4,4))\n",
        "for i in range(10):\n",
        "    for j in range(10):\n",
        "        axs[i, j].imshow(fruits[pineapple_index[i*10 + j]], cmap='gray_r')\n",
        "        axs[i, j].axis('off')\n",
        "plt.show()"
      ],
      "metadata": {
        "id": "OEhjjje1SC0S"
      },
      "execution_count": null,
      "outputs": []
    },
    {
      "cell_type": "code",
      "source": [
        "banana_mean = np.mean(banana, axis=0).reshape(100, 100)\n",
        "abs_diff = np.abs(fruits - banana_mean)\n",
        "abs_mean = np.mean(abs_diff, axis=(1,2))\n",
        "\n",
        "banana_index = np.argsort(abs_mean)[:100]\n",
        "fig, axs = plt.subplots(10, 10, figsize=(4,4))\n",
        "for i in range(10):\n",
        "    for j in range(10):\n",
        "        axs[i, j].imshow(fruits[banana_index[i*10 + j]], cmap='gray_r')\n",
        "        axs[i, j].axis('off')\n",
        "plt.show()"
      ],
      "metadata": {
        "id": "GeSs4rp7SCwQ"
      },
      "execution_count": null,
      "outputs": []
    },
    {
      "cell_type": "markdown",
      "metadata": {
        "id": "BHE4sBFg71zv"
      },
      "source": [
        "---\n",
        "### 하지만 문제가 해결되지 않았습니다.\n",
        "### 실제 비지도 학습에서는 타깃값을 모르기때문에 샘플의 평균값을 미리 구할 수 없습니다\n",
        "\n",
        "### 타깃값을 모르면서 어떻게 세 과일의 평균값을 찾을 수 있을까요?\n",
        "\n",
        "### k-평균 알고리즘을 적용해봅시다."
      ]
    }
  ],
  "metadata": {
    "colab": {
      "provenance": []
    },
    "kernelspec": {
      "display_name": "Python 3",
      "name": "python3"
    },
    "language_info": {
      "name": "python"
    },
    "accelerator": "GPU",
    "gpuClass": "standard"
  },
  "nbformat": 4,
  "nbformat_minor": 0
}