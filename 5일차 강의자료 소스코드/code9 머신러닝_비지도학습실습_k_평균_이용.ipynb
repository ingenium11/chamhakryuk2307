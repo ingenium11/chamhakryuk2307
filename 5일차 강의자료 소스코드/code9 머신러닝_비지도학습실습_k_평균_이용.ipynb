{
  "nbformat": 4,
  "nbformat_minor": 0,
  "metadata": {
    "colab": {
      "provenance": []
    },
    "kernelspec": {
      "name": "python3",
      "display_name": "Python 3"
    },
    "language_info": {
      "name": "python"
    }
  },
  "cells": [
    {
      "cell_type": "markdown",
      "source": [
        "## 과일 사진 데이터 준비하기"
      ],
      "metadata": {
        "id": "wsn5qf6YXC7p"
      }
    },
    {
      "cell_type": "code",
      "execution_count": null,
      "metadata": {
        "id": "Y1RqxrfuWxNc"
      },
      "outputs": [],
      "source": [
        "# 캐글에 공개된 과일 데이터 셋 불러오기\n",
        "# 코랩의 코드 셀에서 '!' 로 시작하면 파이썬 코드가 아닌 리눅스 셀 명령으로 이행함\n",
        "\n",
        "!wget https://bit.ly/fruits_300_data -O fruits_300.npy"
      ]
    },
    {
      "cell_type": "code",
      "source": [
        "# k-평균 모델을 훈련하기 위해 (샘플 개수, 너비, 높이) 크기의 3차원 배열을 (샘플 개수, 너비x높이) 크기를 가진 2차원 배열로 변경 (fruits_2d)\n",
        "\n",
        "import numpy as np\n",
        "\n",
        "fruits = np.load('fruits_300.npy')\n",
        "fruits_2d = fruits.reshape(-1, 100*100)"
      ],
      "metadata": {
        "id": "ZR5DQLtTXYLA"
      },
      "execution_count": null,
      "outputs": []
    },
    {
      "cell_type": "code",
      "source": [
        "# K-평균을 구하기 위해 사이킷런 라이브러리의 KMeans 클래스를 불러옴\n",
        "# 비지도 학습이므로 fit() 함수에서 타깃 데이터를 사용하지 않음\n",
        "\n",
        "from sklearn.cluster import KMeans\n",
        "\n",
        "# 클러스터 개수는 3개로 지정\n",
        "N_cluster = 3\n",
        "\n",
        "km = KMeans(n_clusters=N_cluster, n_init=10, random_state=42)\n",
        "km.fit(fruits_2d)"
      ],
      "metadata": {
        "id": "hn84fABPXb4_"
      },
      "execution_count": null,
      "outputs": []
    },
    {
      "cell_type": "code",
      "source": [
        "# 군집화한 label 출력 : 클러스터 개수를 3 개로 지정했으므로 label은 0, 1, 2 중 하나가 됨\n",
        "# label된 값이 어떤 과일 사진을 주로 모았는지는 알 수 없음. 직접 이미지를 출력해봐야 알 수 있음\n",
        "\n",
        "print(km.labels_)"
      ],
      "metadata": {
        "id": "nMZz8NXdXb2k"
      },
      "execution_count": null,
      "outputs": []
    },
    {
      "cell_type": "code",
      "source": [
        "# 각 레이블들이 모은 숫자를 출력해봄\n",
        "\n",
        "#print(np.unique(km.labels_, return_counts=True))\n",
        "label, counts = np.unique(km.labels_, return_counts=True)\n",
        "\n",
        "for i in range(N_cluster) :\n",
        "  print(f\"레이블 {label[i]} 인 이미지 사진 숫자 : {counts[i]}\")\n"
      ],
      "metadata": {
        "id": "FSpepTyYXbz0"
      },
      "execution_count": null,
      "outputs": []
    },
    {
      "cell_type": "code",
      "source": [
        "# 각 클러스터가 어떤 이미지를 나타냈는지 그림으로 출력하기 위한 함수 정의\n",
        "\n",
        "import matplotlib.pyplot as plt\n",
        "\n",
        "# 적절한 크기로 화면에 출력하기 위해 ratio 인자를 이용용\n",
        "def draw_fruits(arr, ratio=1):\n",
        "    n = len(arr)    # n은 샘플 개수입니다\n",
        "    # 한 줄에 10개씩 이미지를 그립니다. 샘플 개수를 10으로 나누어 전체 행 개수를 계산합니다. \n",
        "    rows = int(np.ceil(n/10))\n",
        "    # 행이 1개 이면 열 개수는 샘플 개수입니다. 그렇지 않으면 10개입니다.\n",
        "    cols = n if rows < 2 else 10\n",
        "    fig, axs = plt.subplots(rows, cols, \n",
        "                            figsize=(cols*ratio, rows*ratio), squeeze=False)\n",
        "    for i in range(rows):\n",
        "        for j in range(cols):\n",
        "            if i*10 + j < n:    # n 개까지만 그립니다.\n",
        "                axs[i, j].imshow(arr[i*10 + j], cmap='gray_r')\n",
        "            axs[i, j].axis('off')\n",
        "    plt.show()"
      ],
      "metadata": {
        "id": "PFxeyD4JXbw7"
      },
      "execution_count": null,
      "outputs": []
    },
    {
      "cell_type": "code",
      "source": [
        "# 레이블이 0 인 이미지 출력\n",
        "\n",
        "draw_fruits(fruits[km.labels_==0], 0.6)"
      ],
      "metadata": {
        "id": "zx88gBHxXbuE"
      },
      "execution_count": null,
      "outputs": []
    },
    {
      "cell_type": "code",
      "source": [
        "# 레이블이 1 인 이미지 출력\n",
        "\n",
        "draw_fruits(fruits[km.labels_==1], 0.6)"
      ],
      "metadata": {
        "id": "r73XFuRoXbrb"
      },
      "execution_count": null,
      "outputs": []
    },
    {
      "cell_type": "code",
      "source": [
        "# 레이블이 2 인 이미지 출력\n",
        "\n",
        "draw_fruits(fruits[km.labels_==2], 0.6)"
      ],
      "metadata": {
        "id": "1p8BUdD7Xbob"
      },
      "execution_count": null,
      "outputs": []
    },
    {
      "cell_type": "code",
      "source": [
        "# 반복적으로 클러스터 중심을 옮기면서 최적의 클러스터를 찾기 위해 알고리즘이 반복한 횟수\n",
        "\n",
        "print(km.n_iter_)"
      ],
      "metadata": {
        "id": "jm3qmDEMXblt"
      },
      "execution_count": null,
      "outputs": []
    },
    {
      "cell_type": "markdown",
      "source": [
        "### 각 이미지와 클러스터 중심사이의 거리 측정해보기"
      ],
      "metadata": {
        "id": "8cA4WG7QhsVf"
      }
    },
    {
      "cell_type": "code",
      "source": [
        "# 300 개의 이미지 중 idx번째 이미지 사진에서 클러스터 중심까지 거리 측정\n",
        "\n",
        "idx = 50\n",
        "\n",
        "distance = km.transform(fruits_2d[idx:idx+1])\n",
        "for i in range(N_cluster) :\n",
        "  print(f\"레이블 {i}와의 거리 : {distance[0][i]}\")\n",
        "print(f\"따라서 레이블 {np.argmin(distance[0])} 과 가장 가까울 것으로 예측됨\")"
      ],
      "metadata": {
        "id": "shFHauj4Xbi1"
      },
      "execution_count": null,
      "outputs": []
    },
    {
      "cell_type": "code",
      "source": [
        "# KMeans 클래스의 가장 가까운 클러스터 중심을 예측 클래스로 출력하는 predict() 메소드를 활용\n",
        "\n",
        "print(km.predict(fruits_2d[idx:idx+1]))"
      ],
      "metadata": {
        "id": "IlKcyHRcXbf8"
      },
      "execution_count": null,
      "outputs": []
    },
    {
      "cell_type": "code",
      "source": [
        "# 해당 이미지를 출력함\n",
        "\n",
        "draw_fruits(fruits[idx:idx+1])"
      ],
      "metadata": {
        "id": "6eCx02BkXbcr"
      },
      "execution_count": null,
      "outputs": []
    },
    {
      "cell_type": "markdown",
      "source": [
        "### 데이터셋의 차원을 줄이면 학습 알고리즘의 속도를 크게 높일 수 있습니다."
      ],
      "metadata": {
        "id": "nHuJClaPm7Jv"
      }
    },
    {
      "cell_type": "markdown",
      "source": [
        "---\n",
        "### 데이터의 차원을 줄이면 시각화하기에 용이합니다.\n",
        "### 3차원 이하로 줄이면 그래프로 나타낼 수 있습니다.\n"
      ],
      "metadata": {
        "id": "DDML107GoPy0"
      }
    },
    {
      "cell_type": "code",
      "source": [
        "from sklearn.decomposition import PCA\n",
        "\n",
        "pca = PCA(n_components=0.5)\n",
        "pca.fit(fruits_2d)\n",
        "\n",
        "fruits_pca = pca.transform(fruits_2d)\n",
        "\n",
        "for label in range(0, 3):\n",
        "    data = fruits_pca[km.labels_ == label]\n",
        "    plt.scatter(data[:,0], data[:,1])\n",
        "plt.legend(['apple', 'banana', 'pineapple'])\n",
        "plt.show()"
      ],
      "metadata": {
        "id": "3RokGOVMotE3"
      },
      "execution_count": null,
      "outputs": []
    },
    {
      "cell_type": "markdown",
      "source": [
        "### 사과와 파인애플 클러스터의 경계가 가깝게 붙어 있음.\n",
        "### 두 클러스터 샘플은 몇 개가 혼동을 일으킬 수도 있음.\n",
        "### 데이터 시각화를 통해 예상치 못한 통찰을 얻을 수 있음."
      ],
      "metadata": {
        "id": "bRM16IOjqFox"
      }
    }
  ]
}